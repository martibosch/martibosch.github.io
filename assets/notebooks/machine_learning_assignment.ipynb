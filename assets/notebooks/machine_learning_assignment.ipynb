{
 "cells": [
  {
   "cell_type": "code",
   "execution_count": 1,
   "metadata": {
    "autoscroll": "json-false",
    "collapsed": false,
    "ein.tags": [
     "worksheet-0"
    ]
   },
   "outputs": [],
   "source": [
    "import pandas as pd\n",
    "\n",
    "uris = [\n",
    "    'https://archive.ics.uci.edu/ml/machine-learning-databases/breast-cancer-wisconsin/wdbc.data',\n",
    "    'https://archive.ics.uci.edu/ml/machine-learning-databases/ionosphere/ionosphere.data',\n",
    "    'https://archive.ics.uci.edu/ml/machine-learning-databases/letter-recognition/letter-recognition.data',\n",
    "    'https://archive.ics.uci.edu/ml/machine-learning-databases/spambase/spambase.data'\n",
    "]\n",
    "\n",
    "bc, io, lr, sp = [pd.read_csv(uri, header=None) for uri in uris]"
   ]
  },
  {
   "cell_type": "code",
   "execution_count": 2,
   "metadata": {
    "autoscroll": "json-false",
    "collapsed": false,
    "ein.tags": [
     "worksheet-0"
    ]
   },
   "outputs": [],
   "source": [
    "X_bc, y_bc = bc.iloc[:,2:], bc.iloc[:,1]\n",
    "X_io, y_io = io.iloc[:,:io.shape[1]-1], io.iloc[:,-1]\n",
    "X_lr, y_lr = lr.iloc[:,1:], lr.iloc[:,0]\n",
    "X_sp, y_sp = sp.iloc[:,:sp.shape[1]-1], sp.iloc[:,-1]\n",
    "\n",
    "# Any preprocessing (normalization, missing values...) should be done here. \n",
    "\n",
    "datasets = { label : (X, y) for label, X, y in [('breast_cancer', X_bc, y_bc), ('ionosphere', X_io, y_io), ('letter_recognition', X_lr, y_lr), ('spambase', X_sp, y_sp)]}"
   ]
  },
  {
   "cell_type": "code",
   "execution_count": 3,
   "metadata": {
    "autoscroll": "json-false",
    "collapsed": false,
    "ein.tags": [
     "worksheet-0"
    ]
   },
   "outputs": [],
   "source": [
    "from sklearn.linear_model import LogisticRegression, Perceptron\n",
    "from sklearn.ensemble import AdaBoostClassifier\n",
    "from sklearn.svm import SVC\n",
    "\n",
    "algorithms = {\n",
    "    'perceptron': Perceptron,\n",
    "    'logistic_regression': LogisticRegression,\n",
    "    'adaboost': AdaBoostClassifier,\n",
    "    'svm': SVC\n",
    "}"
   ]
  },
  {
   "cell_type": "code",
   "execution_count": 4,
   "metadata": {
    "autoscroll": "json-false",
    "collapsed": false,
    "ein.tags": [
     "worksheet-0"
    ]
   },
   "outputs": [],
   "source": [
    "from sklearn.cross_validation import train_test_split\n",
    "\n",
    "scores_df = pd.DataFrame(columns=algorithms.keys())\n",
    "n = 20\n",
    "\n",
    "for algorithm_label, algorithm_class in algorithms.items():\n",
    "    model = algorithm_class()\n",
    "    algorithm_scores = {}\n",
    "    for dataset_label, (X, y) in datasets.items():\n",
    "        dataset_score = 0\n",
    "        for i in range(n):\n",
    "            X_train, X_test, y_train, y_test = train_test_split(X, y, train_size=.7)\n",
    "            model.fit(X_train, y_train)\n",
    "            dataset_score += model.score(X_test, y_test)\n",
    "        algorithm_scores[dataset_label] = dataset_score / n\n",
    "    scores_df[algorithm_label] = pd.Series(algorithm_scores)"
   ]
  },
  {
   "cell_type": "code",
   "execution_count": 5,
   "metadata": {
    "autoscroll": "json-false",
    "collapsed": false,
    "ein.tags": [
     "worksheet-0"
    ]
   },
   "outputs": [
    {
     "data": {
      "text/plain": [
       "                    perceptron       svm  adaboost  logistic_regression\n",
       "breast_cancer         0.802924  0.639766  0.959064             0.949123\n",
       "ionosphere            0.811321  0.919340  0.925472             0.878302\n",
       "letter_recognition    0.467583  0.971308  0.262767             0.717533\n",
       "spambase              0.641528  0.831680  0.938559             0.925199"
      ]
     },
     "execution_count": 6,
     "metadata": {},
     "output_type": "execute_result"
    }
   ],
   "source": [
    "scores_df"
   ]
  }
 ],
 "metadata": {
  "kernelspec": {
   "display_name": "Python [data]",
   "name": "Python [data]"
  },
  "name": "machine_learning_assignment.ipynb"
 },
 "nbformat": 4,
 "nbformat_minor": 0
}
